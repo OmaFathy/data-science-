{
  "cells": [
    {
      "cell_type": "markdown",
      "metadata": {
        "id": "D-2lQqb7Xy8J"
      },
      "source": [
        "**Import Libraries**\n",
        "\n",
        "*Note:*\n",
        "*Scikit-learn is a Python library for machine learning that offers simple tools for data analysis and modeling.*"
      ]
    },
    {
      "cell_type": "code",
      "execution_count": 1,
      "metadata": {
        "id": "J1wA2_6aT_3y"
      },
      "outputs": [],
      "source": [
        "import numpy as np, pandas as pd, matplotlib.pyplot as plt, seaborn as sns\n",
        "from sklearn.linear_model import LinearRegression\n",
        "from sklearn.tree import DecisionTreeRegressor\n",
        "from sklearn.ensemble import GradientBoostingRegressor, RandomForestRegressor\n",
        "from sklearn.preprocessing import OneHotEncoder\n",
        "from sklearn.metrics import mean_squared_error\n",
        "from sklearn.model_selection import StratifiedShuffleSplit\n",
        "from sklearn.impute import SimpleImputer\n",
        "from sklearn.model_selection import train_test_split\n",
        "from keras.models import Sequential, Model, load_model\n",
        "from keras.layers import Dense, Input"
      ]
    },
    {
      "cell_type": "markdown",
      "metadata": {
        "id": "kJyaeCxeY_CK"
      },
      "source": [
        "# 1.Dataset Selection\n",
        "The dataset named Video Game Sales with Ratings contains a collection of more than 16000 data which lists video games with sales above 100,000 copy.Data collection is done by web scraping technique."
      ]
    },
    {
      "cell_type": "code",
      "execution_count": 2,
      "metadata": {
        "id": "AVKlnl7dUShO"
      },
      "outputs": [],
      "source": [
        "#Read the dataset\n",
        "videogame_df=pd.read_csv(\"Video_Games_Sales_as_at_22_Dec_2016.csv\")\n"
      ]
    },
    {
      "cell_type": "markdown",
      "metadata": {
        "id": "SSNa_Zi7ZMSz"
      },
      "source": [
        "Displying the dataset\n",
        "by displaying the names of the columns the columns which can be used for the fearture analysis can be easy to identify.\n"
      ]
    },
    {
      "cell_type": "code",
      "execution_count": 3,
      "metadata": {
        "colab": {
          "base_uri": "https://localhost:8080/",
          "height": 295
        },
        "id": "WriAjqwEUeRx",
        "outputId": "2b76080c-04ea-423e-9760-999f92ff6a08"
      },
      "outputs": [
        {
          "data": {
            "application/vnd.google.colaboratory.intrinsic+json": {
              "summary": "{\n  \"name\": \"videogame_df\",\n  \"rows\": 16719,\n  \"fields\": [\n    {\n      \"column\": \"Name\",\n      \"properties\": {\n        \"dtype\": \"string\",\n        \"num_unique_values\": 11562,\n        \"samples\": [\n          \"Maximum Force\",\n          \"DS Bungaku Zenshuu\",\n          \"Derby Jockey: Kishou e no Michi\"\n        ],\n        \"semantic_type\": \"\",\n        \"description\": \"\"\n      }\n    },\n    {\n      \"column\": \"Platform\",\n      \"properties\": {\n        \"dtype\": \"category\",\n        \"num_unique_values\": 31,\n        \"samples\": [\n          \"TG16\",\n          \"2600\",\n          \"SAT\"\n        ],\n        \"semantic_type\": \"\",\n        \"description\": \"\"\n      }\n    },\n    {\n      \"column\": \"Year_of_Release\",\n      \"properties\": {\n        \"dtype\": \"number\",\n        \"std\": 5.878994768348322,\n        \"min\": 1980.0,\n        \"max\": 2020.0,\n        \"num_unique_values\": 39,\n        \"samples\": [\n          1981.0,\n          1983.0,\n          1996.0\n        ],\n        \"semantic_type\": \"\",\n        \"description\": \"\"\n      }\n    },\n    {\n      \"column\": \"Genre\",\n      \"properties\": {\n        \"dtype\": \"category\",\n        \"num_unique_values\": 12,\n        \"samples\": [\n          \"Adventure\",\n          \"Fighting\",\n          \"Sports\"\n        ],\n        \"semantic_type\": \"\",\n        \"description\": \"\"\n      }\n    },\n    {\n      \"column\": \"Publisher\",\n      \"properties\": {\n        \"dtype\": \"category\",\n        \"num_unique_values\": 582,\n        \"samples\": [\n          \"Commseed\",\n          \"Asylum Entertainment\",\n          \"Genki\"\n        ],\n        \"semantic_type\": \"\",\n        \"description\": \"\"\n      }\n    },\n    {\n      \"column\": \"NA_Sales\",\n      \"properties\": {\n        \"dtype\": \"number\",\n        \"std\": 0.8135138347516192,\n        \"min\": 0.0,\n        \"max\": 41.36,\n        \"num_unique_values\": 402,\n        \"samples\": [\n          1.45,\n          0.59,\n          5.28\n        ],\n        \"semantic_type\": \"\",\n        \"description\": \"\"\n      }\n    },\n    {\n      \"column\": \"EU_Sales\",\n      \"properties\": {\n        \"dtype\": \"number\",\n        \"std\": 0.5032832960942158,\n        \"min\": 0.0,\n        \"max\": 28.96,\n        \"num_unique_values\": 307,\n        \"samples\": [\n          1.29,\n          1.95,\n          1.83\n        ],\n        \"semantic_type\": \"\",\n        \"description\": \"\"\n      }\n    },\n    {\n      \"column\": \"JP_Sales\",\n      \"properties\": {\n        \"dtype\": \"number\",\n        \"std\": 0.3088180805146379,\n        \"min\": 0.0,\n        \"max\": 10.22,\n        \"num_unique_values\": 244,\n        \"samples\": [\n          0.47,\n          6.5,\n          2.46\n        ],\n        \"semantic_type\": \"\",\n        \"description\": \"\"\n      }\n    },\n    {\n      \"column\": \"Other_Sales\",\n      \"properties\": {\n        \"dtype\": \"number\",\n        \"std\": 0.18670989698947893,\n        \"min\": 0.0,\n        \"max\": 10.57,\n        \"num_unique_values\": 155,\n        \"samples\": [\n          0.48,\n          0.27,\n          2.38\n        ],\n        \"semantic_type\": \"\",\n        \"description\": \"\"\n      }\n    },\n    {\n      \"column\": \"Global_Sales\",\n      \"properties\": {\n        \"dtype\": \"number\",\n        \"std\": 1.547935124717767,\n        \"min\": 0.01,\n        \"max\": 82.53,\n        \"num_unique_values\": 629,\n        \"samples\": [\n          1.35,\n          4.11,\n          0.78\n        ],\n        \"semantic_type\": \"\",\n        \"description\": \"\"\n      }\n    },\n    {\n      \"column\": \"Critic_Score\",\n      \"properties\": {\n        \"dtype\": \"number\",\n        \"std\": 13.938164552843213,\n        \"min\": 13.0,\n        \"max\": 98.0,\n        \"num_unique_values\": 82,\n        \"samples\": [\n          67.0,\n          76.0,\n          74.0\n        ],\n        \"semantic_type\": \"\",\n        \"description\": \"\"\n      }\n    },\n    {\n      \"column\": \"Critic_Count\",\n      \"properties\": {\n        \"dtype\": \"number\",\n        \"std\": 18.980494534582068,\n        \"min\": 3.0,\n        \"max\": 113.0,\n        \"num_unique_values\": 106,\n        \"samples\": [\n          6.0,\n          58.0,\n          80.0\n        ],\n        \"semantic_type\": \"\",\n        \"description\": \"\"\n      }\n    },\n    {\n      \"column\": \"User_Score\",\n      \"properties\": {\n        \"dtype\": \"number\",\n        \"std\": 1.5000060936257982,\n        \"min\": 0.0,\n        \"max\": 9.7,\n        \"num_unique_values\": 95,\n        \"samples\": [\n          2.2,\n          7.5,\n          3.6\n        ],\n        \"semantic_type\": \"\",\n        \"description\": \"\"\n      }\n    },\n    {\n      \"column\": \"User_Count\",\n      \"properties\": {\n        \"dtype\": \"number\",\n        \"std\": 561.2823262473771,\n        \"min\": 4.0,\n        \"max\": 10665.0,\n        \"num_unique_values\": 888,\n        \"samples\": [\n          892.0,\n          932.0,\n          16.0\n        ],\n        \"semantic_type\": \"\",\n        \"description\": \"\"\n      }\n    },\n    {\n      \"column\": \"Developer\",\n      \"properties\": {\n        \"dtype\": \"category\",\n        \"num_unique_values\": 1696,\n        \"samples\": [\n          \"Q-Games\",\n          \"BioWare\",\n          \"EA DICE, Danger Close\"\n        ],\n        \"semantic_type\": \"\",\n        \"description\": \"\"\n      }\n    },\n    {\n      \"column\": \"Rating\",\n      \"properties\": {\n        \"dtype\": \"category\",\n        \"num_unique_values\": 8,\n        \"samples\": [\n          \"M\",\n          \"AO\",\n          \"E\"\n        ],\n        \"semantic_type\": \"\",\n        \"description\": \"\"\n      }\n    }\n  ]\n}",
              "type": "dataframe",
              "variable_name": "videogame_df"
            },
            "text/html": [
              "\n",
              "  <div id=\"df-c9936ce4-572e-48b0-aa5e-91b01cf92eab\" class=\"colab-df-container\">\n",
              "    <div>\n",
              "<style scoped>\n",
              "    .dataframe tbody tr th:only-of-type {\n",
              "        vertical-align: middle;\n",
              "    }\n",
              "\n",
              "    .dataframe tbody tr th {\n",
              "        vertical-align: top;\n",
              "    }\n",
              "\n",
              "    .dataframe thead th {\n",
              "        text-align: right;\n",
              "    }\n",
              "</style>\n",
              "<table border=\"1\" class=\"dataframe\">\n",
              "  <thead>\n",
              "    <tr style=\"text-align: right;\">\n",
              "      <th></th>\n",
              "      <th>Name</th>\n",
              "      <th>Platform</th>\n",
              "      <th>Year_of_Release</th>\n",
              "      <th>Genre</th>\n",
              "      <th>Publisher</th>\n",
              "      <th>NA_Sales</th>\n",
              "      <th>EU_Sales</th>\n",
              "      <th>JP_Sales</th>\n",
              "      <th>Other_Sales</th>\n",
              "      <th>Global_Sales</th>\n",
              "      <th>Critic_Score</th>\n",
              "      <th>Critic_Count</th>\n",
              "      <th>User_Score</th>\n",
              "      <th>User_Count</th>\n",
              "      <th>Developer</th>\n",
              "      <th>Rating</th>\n",
              "    </tr>\n",
              "  </thead>\n",
              "  <tbody>\n",
              "    <tr>\n",
              "      <th>0</th>\n",
              "      <td>Wii Sports</td>\n",
              "      <td>Wii</td>\n",
              "      <td>2006.0</td>\n",
              "      <td>Sports</td>\n",
              "      <td>Nintendo</td>\n",
              "      <td>41.36</td>\n",
              "      <td>28.96</td>\n",
              "      <td>3.77</td>\n",
              "      <td>8.45</td>\n",
              "      <td>82.53</td>\n",
              "      <td>76.0</td>\n",
              "      <td>51.0</td>\n",
              "      <td>8.0</td>\n",
              "      <td>322.0</td>\n",
              "      <td>Nintendo</td>\n",
              "      <td>E</td>\n",
              "    </tr>\n",
              "    <tr>\n",
              "      <th>1</th>\n",
              "      <td>Super Mario Bros.</td>\n",
              "      <td>NES</td>\n",
              "      <td>1985.0</td>\n",
              "      <td>Platform</td>\n",
              "      <td>Nintendo</td>\n",
              "      <td>29.08</td>\n",
              "      <td>3.58</td>\n",
              "      <td>6.81</td>\n",
              "      <td>0.77</td>\n",
              "      <td>40.24</td>\n",
              "      <td>NaN</td>\n",
              "      <td>NaN</td>\n",
              "      <td>NaN</td>\n",
              "      <td>NaN</td>\n",
              "      <td>NaN</td>\n",
              "      <td>NaN</td>\n",
              "    </tr>\n",
              "    <tr>\n",
              "      <th>2</th>\n",
              "      <td>Mario Kart Wii</td>\n",
              "      <td>Wii</td>\n",
              "      <td>2008.0</td>\n",
              "      <td>Racing</td>\n",
              "      <td>Nintendo</td>\n",
              "      <td>15.68</td>\n",
              "      <td>12.76</td>\n",
              "      <td>3.79</td>\n",
              "      <td>3.29</td>\n",
              "      <td>35.52</td>\n",
              "      <td>82.0</td>\n",
              "      <td>73.0</td>\n",
              "      <td>8.3</td>\n",
              "      <td>709.0</td>\n",
              "      <td>Nintendo</td>\n",
              "      <td>E</td>\n",
              "    </tr>\n",
              "    <tr>\n",
              "      <th>3</th>\n",
              "      <td>Wii Sports Resort</td>\n",
              "      <td>Wii</td>\n",
              "      <td>2009.0</td>\n",
              "      <td>Sports</td>\n",
              "      <td>Nintendo</td>\n",
              "      <td>15.61</td>\n",
              "      <td>10.93</td>\n",
              "      <td>3.28</td>\n",
              "      <td>2.95</td>\n",
              "      <td>32.77</td>\n",
              "      <td>80.0</td>\n",
              "      <td>73.0</td>\n",
              "      <td>8.0</td>\n",
              "      <td>192.0</td>\n",
              "      <td>Nintendo</td>\n",
              "      <td>E</td>\n",
              "    </tr>\n",
              "    <tr>\n",
              "      <th>4</th>\n",
              "      <td>Pokemon Red/Pokemon Blue</td>\n",
              "      <td>GB</td>\n",
              "      <td>1996.0</td>\n",
              "      <td>Role-Playing</td>\n",
              "      <td>Nintendo</td>\n",
              "      <td>11.27</td>\n",
              "      <td>8.89</td>\n",
              "      <td>10.22</td>\n",
              "      <td>1.00</td>\n",
              "      <td>31.37</td>\n",
              "      <td>NaN</td>\n",
              "      <td>NaN</td>\n",
              "      <td>NaN</td>\n",
              "      <td>NaN</td>\n",
              "      <td>NaN</td>\n",
              "      <td>NaN</td>\n",
              "    </tr>\n",
              "  </tbody>\n",
              "</table>\n",
              "</div>\n",
              "    <div class=\"colab-df-buttons\">\n",
              "\n",
              "  <div class=\"colab-df-container\">\n",
              "    <button class=\"colab-df-convert\" onclick=\"convertToInteractive('df-c9936ce4-572e-48b0-aa5e-91b01cf92eab')\"\n",
              "            title=\"Convert this dataframe to an interactive table.\"\n",
              "            style=\"display:none;\">\n",
              "\n",
              "  <svg xmlns=\"http://www.w3.org/2000/svg\" height=\"24px\" viewBox=\"0 -960 960 960\">\n",
              "    <path d=\"M120-120v-720h720v720H120Zm60-500h600v-160H180v160Zm220 220h160v-160H400v160Zm0 220h160v-160H400v160ZM180-400h160v-160H180v160Zm440 0h160v-160H620v160ZM180-180h160v-160H180v160Zm440 0h160v-160H620v160Z\"/>\n",
              "  </svg>\n",
              "    </button>\n",
              "\n",
              "  <style>\n",
              "    .colab-df-container {\n",
              "      display:flex;\n",
              "      gap: 12px;\n",
              "    }\n",
              "\n",
              "    .colab-df-convert {\n",
              "      background-color: #E8F0FE;\n",
              "      border: none;\n",
              "      border-radius: 50%;\n",
              "      cursor: pointer;\n",
              "      display: none;\n",
              "      fill: #1967D2;\n",
              "      height: 32px;\n",
              "      padding: 0 0 0 0;\n",
              "      width: 32px;\n",
              "    }\n",
              "\n",
              "    .colab-df-convert:hover {\n",
              "      background-color: #E2EBFA;\n",
              "      box-shadow: 0px 1px 2px rgba(60, 64, 67, 0.3), 0px 1px 3px 1px rgba(60, 64, 67, 0.15);\n",
              "      fill: #174EA6;\n",
              "    }\n",
              "\n",
              "    .colab-df-buttons div {\n",
              "      margin-bottom: 4px;\n",
              "    }\n",
              "\n",
              "    [theme=dark] .colab-df-convert {\n",
              "      background-color: #3B4455;\n",
              "      fill: #D2E3FC;\n",
              "    }\n",
              "\n",
              "    [theme=dark] .colab-df-convert:hover {\n",
              "      background-color: #434B5C;\n",
              "      box-shadow: 0px 1px 3px 1px rgba(0, 0, 0, 0.15);\n",
              "      filter: drop-shadow(0px 1px 2px rgba(0, 0, 0, 0.3));\n",
              "      fill: #FFFFFF;\n",
              "    }\n",
              "  </style>\n",
              "\n",
              "    <script>\n",
              "      const buttonEl =\n",
              "        document.querySelector('#df-c9936ce4-572e-48b0-aa5e-91b01cf92eab button.colab-df-convert');\n",
              "      buttonEl.style.display =\n",
              "        google.colab.kernel.accessAllowed ? 'block' : 'none';\n",
              "\n",
              "      async function convertToInteractive(key) {\n",
              "        const element = document.querySelector('#df-c9936ce4-572e-48b0-aa5e-91b01cf92eab');\n",
              "        const dataTable =\n",
              "          await google.colab.kernel.invokeFunction('convertToInteractive',\n",
              "                                                    [key], {});\n",
              "        if (!dataTable) return;\n",
              "\n",
              "        const docLinkHtml = 'Like what you see? Visit the ' +\n",
              "          '<a target=\"_blank\" href=https://colab.research.google.com/notebooks/data_table.ipynb>data table notebook</a>'\n",
              "          + ' to learn more about interactive tables.';\n",
              "        element.innerHTML = '';\n",
              "        dataTable['output_type'] = 'display_data';\n",
              "        await google.colab.output.renderOutput(dataTable, element);\n",
              "        const docLink = document.createElement('div');\n",
              "        docLink.innerHTML = docLinkHtml;\n",
              "        element.appendChild(docLink);\n",
              "      }\n",
              "    </script>\n",
              "  </div>\n",
              "\n",
              "\n",
              "<div id=\"df-f49fbc07-bea5-4d7b-931f-f4f44b7deae1\">\n",
              "  <button class=\"colab-df-quickchart\" onclick=\"quickchart('df-f49fbc07-bea5-4d7b-931f-f4f44b7deae1')\"\n",
              "            title=\"Suggest charts\"\n",
              "            style=\"display:none;\">\n",
              "\n",
              "<svg xmlns=\"http://www.w3.org/2000/svg\" height=\"24px\"viewBox=\"0 0 24 24\"\n",
              "     width=\"24px\">\n",
              "    <g>\n",
              "        <path d=\"M19 3H5c-1.1 0-2 .9-2 2v14c0 1.1.9 2 2 2h14c1.1 0 2-.9 2-2V5c0-1.1-.9-2-2-2zM9 17H7v-7h2v7zm4 0h-2V7h2v10zm4 0h-2v-4h2v4z\"/>\n",
              "    </g>\n",
              "</svg>\n",
              "  </button>\n",
              "\n",
              "<style>\n",
              "  .colab-df-quickchart {\n",
              "      --bg-color: #E8F0FE;\n",
              "      --fill-color: #1967D2;\n",
              "      --hover-bg-color: #E2EBFA;\n",
              "      --hover-fill-color: #174EA6;\n",
              "      --disabled-fill-color: #AAA;\n",
              "      --disabled-bg-color: #DDD;\n",
              "  }\n",
              "\n",
              "  [theme=dark] .colab-df-quickchart {\n",
              "      --bg-color: #3B4455;\n",
              "      --fill-color: #D2E3FC;\n",
              "      --hover-bg-color: #434B5C;\n",
              "      --hover-fill-color: #FFFFFF;\n",
              "      --disabled-bg-color: #3B4455;\n",
              "      --disabled-fill-color: #666;\n",
              "  }\n",
              "\n",
              "  .colab-df-quickchart {\n",
              "    background-color: var(--bg-color);\n",
              "    border: none;\n",
              "    border-radius: 50%;\n",
              "    cursor: pointer;\n",
              "    display: none;\n",
              "    fill: var(--fill-color);\n",
              "    height: 32px;\n",
              "    padding: 0;\n",
              "    width: 32px;\n",
              "  }\n",
              "\n",
              "  .colab-df-quickchart:hover {\n",
              "    background-color: var(--hover-bg-color);\n",
              "    box-shadow: 0 1px 2px rgba(60, 64, 67, 0.3), 0 1px 3px 1px rgba(60, 64, 67, 0.15);\n",
              "    fill: var(--button-hover-fill-color);\n",
              "  }\n",
              "\n",
              "  .colab-df-quickchart-complete:disabled,\n",
              "  .colab-df-quickchart-complete:disabled:hover {\n",
              "    background-color: var(--disabled-bg-color);\n",
              "    fill: var(--disabled-fill-color);\n",
              "    box-shadow: none;\n",
              "  }\n",
              "\n",
              "  .colab-df-spinner {\n",
              "    border: 2px solid var(--fill-color);\n",
              "    border-color: transparent;\n",
              "    border-bottom-color: var(--fill-color);\n",
              "    animation:\n",
              "      spin 1s steps(1) infinite;\n",
              "  }\n",
              "\n",
              "  @keyframes spin {\n",
              "    0% {\n",
              "      border-color: transparent;\n",
              "      border-bottom-color: var(--fill-color);\n",
              "      border-left-color: var(--fill-color);\n",
              "    }\n",
              "    20% {\n",
              "      border-color: transparent;\n",
              "      border-left-color: var(--fill-color);\n",
              "      border-top-color: var(--fill-color);\n",
              "    }\n",
              "    30% {\n",
              "      border-color: transparent;\n",
              "      border-left-color: var(--fill-color);\n",
              "      border-top-color: var(--fill-color);\n",
              "      border-right-color: var(--fill-color);\n",
              "    }\n",
              "    40% {\n",
              "      border-color: transparent;\n",
              "      border-right-color: var(--fill-color);\n",
              "      border-top-color: var(--fill-color);\n",
              "    }\n",
              "    60% {\n",
              "      border-color: transparent;\n",
              "      border-right-color: var(--fill-color);\n",
              "    }\n",
              "    80% {\n",
              "      border-color: transparent;\n",
              "      border-right-color: var(--fill-color);\n",
              "      border-bottom-color: var(--fill-color);\n",
              "    }\n",
              "    90% {\n",
              "      border-color: transparent;\n",
              "      border-bottom-color: var(--fill-color);\n",
              "    }\n",
              "  }\n",
              "</style>\n",
              "\n",
              "  <script>\n",
              "    async function quickchart(key) {\n",
              "      const quickchartButtonEl =\n",
              "        document.querySelector('#' + key + ' button');\n",
              "      quickchartButtonEl.disabled = true;  // To prevent multiple clicks.\n",
              "      quickchartButtonEl.classList.add('colab-df-spinner');\n",
              "      try {\n",
              "        const charts = await google.colab.kernel.invokeFunction(\n",
              "            'suggestCharts', [key], {});\n",
              "      } catch (error) {\n",
              "        console.error('Error during call to suggestCharts:', error);\n",
              "      }\n",
              "      quickchartButtonEl.classList.remove('colab-df-spinner');\n",
              "      quickchartButtonEl.classList.add('colab-df-quickchart-complete');\n",
              "    }\n",
              "    (() => {\n",
              "      let quickchartButtonEl =\n",
              "        document.querySelector('#df-f49fbc07-bea5-4d7b-931f-f4f44b7deae1 button');\n",
              "      quickchartButtonEl.style.display =\n",
              "        google.colab.kernel.accessAllowed ? 'block' : 'none';\n",
              "    })();\n",
              "  </script>\n",
              "</div>\n",
              "\n",
              "    </div>\n",
              "  </div>\n"
            ],
            "text/plain": [
              "                       Name Platform  Year_of_Release         Genre Publisher  \\\n",
              "0                Wii Sports      Wii           2006.0        Sports  Nintendo   \n",
              "1         Super Mario Bros.      NES           1985.0      Platform  Nintendo   \n",
              "2            Mario Kart Wii      Wii           2008.0        Racing  Nintendo   \n",
              "3         Wii Sports Resort      Wii           2009.0        Sports  Nintendo   \n",
              "4  Pokemon Red/Pokemon Blue       GB           1996.0  Role-Playing  Nintendo   \n",
              "\n",
              "   NA_Sales  EU_Sales  JP_Sales  Other_Sales  Global_Sales  Critic_Score  \\\n",
              "0     41.36     28.96      3.77         8.45         82.53          76.0   \n",
              "1     29.08      3.58      6.81         0.77         40.24           NaN   \n",
              "2     15.68     12.76      3.79         3.29         35.52          82.0   \n",
              "3     15.61     10.93      3.28         2.95         32.77          80.0   \n",
              "4     11.27      8.89     10.22         1.00         31.37           NaN   \n",
              "\n",
              "   Critic_Count  User_Score  User_Count Developer Rating  \n",
              "0          51.0         8.0       322.0  Nintendo      E  \n",
              "1           NaN         NaN         NaN       NaN    NaN  \n",
              "2          73.0         8.3       709.0  Nintendo      E  \n",
              "3          73.0         8.0       192.0  Nintendo      E  \n",
              "4           NaN         NaN         NaN       NaN    NaN  "
            ]
          },
          "execution_count": 3,
          "metadata": {},
          "output_type": "execute_result"
        }
      ],
      "source": [
        "videogame_df.head()\n"
      ]
    },
    {
      "cell_type": "markdown",
      "metadata": {
        "id": "JUYDI3tBdF4R"
      },
      "source": [
        "# 2.EDA\n"
      ]
    },
    {
      "cell_type": "markdown",
      "metadata": {
        "id": "NohdwvbcdaFt"
      },
      "source": [
        "**Part1.a**\n",
        "\n",
        "In this part we will address missing values in our data set this will help determain which column emputate and which we can clean using the statistcal methods\n"
      ]
    },
    {
      "cell_type": "code",
      "execution_count": 4,
      "metadata": {
        "id": "EQJ5DBXTd5qp"
      },
      "outputs": [],
      "source": [
        " #calculate the total of null and empty values in each column\n",
        "nasales_null_count=videogame_df[\"NA_Sales\"].isna().sum()+videogame_df[\"NA_Sales\"].eq('').sum()\n",
        "\n",
        "eusales_null_count=videogame_df[\"EU_Sales\"].isna().sum()+videogame_df[\"EU_Sales\"].eq('').sum()\n",
        "\n",
        "jpsales_null_count=videogame_df[\"JP_Sales\"].isna().sum()+videogame_df[\"JP_Sales\"].eq('').sum()\n",
        "\n",
        "othersales_null_count=videogame_df[\"Other_Sales\"].isna().sum()+videogame_df[\"Other_Sales\"].eq('').sum()\n",
        "\n",
        "globalsales_null_count=videogame_df[\"Global_Sales\"].isna().sum()+videogame_df[\"Global_Sales\"].eq('').sum()\n",
        "\n",
        "criscore_null_count=videogame_df[\"Critic_Score\"].isna().sum()+videogame_df[\"Critic_Score\"].eq('').sum()\n",
        "\n",
        "criticcount_null_count=videogame_df[\"Critic_Count\"].isna().sum()+videogame_df[\"Critic_Count\"].eq('').sum()\n",
        "\n",
        "us_null_count=videogame_df[\"User_Score\"].isna().sum()+videogame_df[\"User_Score\"].eq('').sum()\n",
        "\n",
        "uc_null_count=videogame_df[\"User_Count\"].isna().sum()+videogame_df[\"User_Count\"].eq('').sum()\n",
        "developer_null_count=videogame_df[\"Developer\"].isna().sum()+videogame_df[\"Developer\"].eq('').sum()\n",
        "\n",
        "rating_null_count=videogame_df[\"Rating\"].isna().sum()+videogame_df[\"Rating\"].eq('').sum()"
      ]
    },
    {
      "cell_type": "markdown",
      "metadata": {
        "id": "LOEF2t15eELQ"
      },
      "source": [
        "**part1.b**\n",
        "\n",
        "Displaying the persentge of null in each recore the recored"
      ]
    },
    {
      "cell_type": "code",
      "execution_count": 5,
      "metadata": {
        "colab": {
          "base_uri": "https://localhost:8080/"
        },
        "id": "Ja1d96C1VhLy",
        "outputId": "4954a43e-7944-4d46-93e0-f1fa37c661c0"
      },
      "outputs": [
        {
          "name": "stdout",
          "output_type": "stream",
          "text": [
            "total na sales  null value 0\n",
            "persentge of the missing values na sales  0.0\n",
            "total EU_Sales e null value 0\n",
            "persentge of the missing values EU_Sales  0.0\n",
            "total JP_Sales  null value 0\n",
            "persentge of the missing values JP_Sales 0.0\n",
            "total Other_Sales  null value 0\n",
            "persentge of the missing values Other_Sales  0.0\n",
            "total Global_Sales null value 0\n",
            "persentge of the missing values Global_Sales  0.0\n",
            "total critic score null value 8582\n",
            "persentge of the missing values critic score  0.5133082122136492\n",
            "total Critic_Count null value 8582\n",
            "persentge of the missing values Critic_Count  0.5133082122136492\n",
            "total User_Score null value 9129\n",
            "persentge of the missing values User_Score  0.5460254799928226\n",
            "total User_Count null value 9129\n",
            "persentge of the missing values User_Count  0.5460254799928226\n"
          ]
        }
      ],
      "source": [
        "print(\"total na sales  null value\",nasales_null_count)\n",
        "print(\"persentge of the missing values na sales \",nasales_null_count/len(videogame_df))\n",
        "\n",
        "print(\"total EU_Sales e null value\",eusales_null_count)\n",
        "print(\"persentge of the missing values EU_Sales \",eusales_null_count/len(videogame_df))\n",
        "\n",
        "print(\"total JP_Sales  null value\",jpsales_null_count)\n",
        "print(\"persentge of the missing values JP_Sales\",jpsales_null_count/len(videogame_df))\n",
        "\n",
        "print(\"total Other_Sales  null value\",othersales_null_count)\n",
        "print(\"persentge of the missing values Other_Sales \",othersales_null_count/len(videogame_df))\n",
        "\n",
        "print(\"total Global_Sales null value\",globalsales_null_count)\n",
        "print(\"persentge of the missing values Global_Sales \",globalsales_null_count/len(videogame_df))\n",
        "\n",
        "print(\"total critic score null value\",criscore_null_count)\n",
        "print(\"persentge of the missing values critic score \",criscore_null_count/len(videogame_df))\n",
        "\n",
        "print(\"total Critic_Count null value\",criticcount_null_count)\n",
        "print(\"persentge of the missing values Critic_Count \",criticcount_null_count/len(videogame_df))\n",
        "\n",
        "print(\"total User_Score null value\",us_null_count)\n",
        "print(\"persentge of the missing values User_Score \",us_null_count/len(videogame_df))\n",
        "\n",
        "print(\"total User_Count null value\",uc_null_count)\n",
        "print(\"persentge of the missing values User_Count \",uc_null_count/len(videogame_df))"
      ]
    },
    {
      "cell_type": "markdown",
      "metadata": {
        "id": "jsk5Ms6CjMMD"
      },
      "source": [
        "the follwing 4 columns have over 50% null or emprty values the stander is to drop them ."
      ]
    },
    {
      "cell_type": "code",
      "execution_count": 6,
      "metadata": {
        "id": "7WwaFFfoWcvC"
      },
      "outputs": [],
      "source": [
        "columnnames=[\"Critic_Count\",\"User_Count\",\"Critic_Score\",\"User_Score\"]\n",
        "videogame_df=videogame_df.drop(columns=columnnames)"
      ]
    },
    {
      "cell_type": "markdown",
      "metadata": {
        "id": "HO30Pjc5jgV-"
      },
      "source": [
        "**Visualization part**"
      ]
    },
    {
      "cell_type": "code",
      "execution_count": 7,
      "metadata": {
        "colab": {
          "base_uri": "https://localhost:8080/",
          "height": 681
        },
        "id": "tIfRLMPLX3_-",
        "outputId": "1bed4cc2-524f-4150-d583-9ded0cca2b04"
      },
      "outputs": [
        {
          "data": {
            "image/png": "[encoded data removed]",
            "text/plain": [
              "<Figure size 1200x800 with 4 Axes>"
            ]
          },
          "metadata": {},
          "output_type": "display_data"
        }
      ],
      "source": [
        "plt.figure(figsize=(12,8))\n",
        "plt.subplot(2,2,1)\n",
        "sns.histplot(data=videogame_df,x='NA_Sales',kde=True ,bins=20 ,color='blue')\n",
        "plt.title(\"Distribution of NA Sales \")\n",
        "\n",
        "\n",
        "plt.subplot(2,2,2)\n",
        "sns.histplot(data=videogame_df,x='EU_Sales',kde=True ,bins=20 ,color='blue')\n",
        "plt.title(\"Distribution of EU Sales \")\n",
        "\n",
        "plt.subplot(2,2,3)\n",
        "sns.histplot(data=videogame_df,x='JP_Sales',kde=True ,bins=20 ,color='blue')\n",
        "plt.title(\"Distribution of JP_Sales \")\n",
        "\n",
        "plt.subplot(2,2,4)\n",
        "sns.histplot(data=videogame_df,x='Global_Sales',kde=True ,bins=20 ,color='blue')\n",
        "plt.title(\"Distribution of Global_Sales \")\n",
        "\n",
        "plt.show()"
      ]
    },
    {
      "cell_type": "markdown",
      "metadata": {
        "id": "5i8PBUs4eoCy"
      },
      "source": [
        "More in data exploration"
      ]
    },
    {
      "cell_type": "code",
      "execution_count": 8,
      "metadata": {
        "colab": {
          "base_uri": "https://localhost:8080/"
        },
        "id": "R5cLdQakUTNe",
        "outputId": "0fbfdee4-0fc0-47ef-aaa7-9b2af6bf457c"
      },
      "outputs": [
        {
          "name": "stdout",
          "output_type": "stream",
          "text": [
            "count       10096\n",
            "unique       1696\n",
            "top       Ubisoft\n",
            "freq          204\n",
            "Name: Developer, dtype: object\n",
            "count     9950\n",
            "unique       8\n",
            "top          E\n",
            "freq      3991\n",
            "Name: Rating, dtype: object\n",
            "6623\n",
            "6769\n"
          ]
        }
      ],
      "source": [
        "print(videogame_df[\"Developer\"].describe())\n",
        "print(videogame_df[\"Rating\"].describe())\n",
        "\n",
        "print(videogame_df[\"Developer\"].isna().sum())\n",
        "print(videogame_df[\"Rating\"].isna().sum())"
      ]
    },
    {
      "cell_type": "markdown",
      "metadata": {
        "id": "HZkMi76elS1v"
      },
      "source": [
        "# 3.Data Cleaning and Processing\n",
        "\n",
        "\n",
        "\n",
        "\n",
        "\n"
      ]
    },
    {
      "cell_type": "markdown",
      "metadata": {
        "id": "_bnNtrvpe2mC"
      },
      "source": [
        "Data Imputation: Filling Missing Values for Developer and Rating"
      ]
    },
    {
      "cell_type": "code",
      "execution_count": 9,
      "metadata": {
        "id": "uakDksTcYK_o"
      },
      "outputs": [],
      "source": [
        "developer_mod=videogame_df[\"Developer\"].mode()\n",
        "videogame_df[\"Developer\"].fillna(developer_mod[0],inplace=True)\n",
        "\n",
        "rating_mod=videogame_df[\"Rating\"].mode()\n",
        "videogame_df[\"Rating\"].fillna(rating_mod[0],inplace=True)"
      ]
    },
    {
      "cell_type": "markdown",
      "metadata": {
        "id": "wdl3-au8mYPg"
      },
      "source": [
        "**Clean and Select Sales and Rating Data**"
      ]
    },
    {
      "cell_type": "code",
      "execution_count": 10,
      "metadata": {
        "colab": {
          "base_uri": "https://localhost:8080/"
        },
        "id": "rwhmyeJPaXbT",
        "outputId": "3c872167-d9ea-4e20-8d13-384f20fc8db1"
      },
      "outputs": [
        {
          "name": "stdout",
          "output_type": "stream",
          "text": [
            "       NA_Sales  EU_Sales  JP_Sales  Global_Sales  Rating\n",
            "0         41.36     28.96      3.77         82.53     4.0\n",
            "1         29.08      3.58      6.81         40.24     4.0\n",
            "2         15.68     12.76      3.79         35.52     4.0\n",
            "3         15.61     10.93      3.28         32.77     4.0\n",
            "4         11.27      8.89     10.22         31.37     4.0\n",
            "...         ...       ...       ...           ...     ...\n",
            "16714      0.00      0.00      0.01          0.01     4.0\n",
            "16715      0.00      0.01      0.00          0.01     4.0\n",
            "16716      0.00      0.00      0.01          0.01     4.0\n",
            "16717      0.01      0.00      0.00          0.01     4.0\n",
            "16718      0.00      0.00      0.01          0.01     4.0\n",
            "\n",
            "[16719 rows x 5 columns]\n"
          ]
        }
      ],
      "source": [
        "cleaned_df=videogame_df\n",
        "#replace the letters with num\n",
        "rating_mapping={\"E\": 4 ,\"T\": 3, \"M\":2,\"\":0}\n",
        "cleaned_df[\"Rating\"]=cleaned_df[\"Rating\"].map(rating_mapping)\n",
        "\n",
        "sales_columns=['NA_Sales','EU_Sales','JP_Sales','Global_Sales']\n",
        "attribut=sales_columns+[\"Rating\"]\n",
        "\n",
        "\n",
        "sales_rating_df=cleaned_df[attribut]\n",
        "print(sales_rating_df)"
      ]
    },
    {
      "cell_type": "markdown",
      "metadata": {
        "id": "WcMctdwMm_zx"
      },
      "source": [
        "**Investigate correlations**"
      ]
    },
    {
      "cell_type": "code",
      "execution_count": 11,
      "metadata": {
        "colab": {
          "base_uri": "https://localhost:8080/",
          "height": 658
        },
        "id": "kCemDeXRacyV",
        "outputId": "dfb7bc4c-4646-4ec4-e096-110bdcaf7d14"
      },
      "outputs": [
        {
          "data": {
            "image/png": "[encoded data removed]",
            "text/plain": [
              "<Figure size 800x800 with 2 Axes>"
            ]
          },
          "metadata": {},
          "output_type": "display_data"
        }
      ],
      "source": [
        "srating_corr_matix=sales_rating_df.corr()\n",
        "plt.figure(figsize=(8,8))\n",
        "\n",
        "sns.heatmap(srating_corr_matix,annot=True,cmap='coolwarm',fmt=\".2f\",square=True)\n",
        "plt.title(\"corration matrix\")\n",
        "plt.show()"
      ]
    },
    {
      "cell_type": "markdown",
      "metadata": {
        "id": "zBXDvCd3UmTv"
      },
      "source": [
        "## Stratified Sampling for Class Balance\n",
        "\n",
        "- **Features & Target**: Define features and target variable.\n",
        "- **Class Counts**: Count samples per class.\n",
        "- **Remove Single-Class**: Exclude classes with one sample.\n",
        "- **Split & Stratify**: Divide data into train/test sets, maintaining class balance.\n",
        "\n",
        "### Benefits:\n",
        "- **Balanced Classes**: Mitigates class imbalance issues.\n",
        "- **Generalization**: Enhances model generalization.\n",
        "- **Prevents Overfitting**: Reduces risk of overfitting to rare classes.\n"
      ]
    },
    {
      "cell_type": "code",
      "execution_count": 12,
      "metadata": {
        "id": "-GniW1XNbVw-"
      },
      "outputs": [],
      "source": [
        "# Define features and target variable\n",
        "features = ['Year_of_Release', 'NA_Sales', 'EU_Sales', 'JP_Sales', 'Other_Sales']\n",
        "target = 'Global_Sales'\n",
        "df=cleaned_df\n",
        "# Count the number of samples per class\n",
        "class_counts = cleaned_df[target].value_counts()\n",
        "\n",
        "# Find classes with only one sample\n",
        "single_class_indices = class_counts[class_counts == 1].index\n",
        "\n",
        "# Remove samples from classes with only one sample\n",
        "df_filtered = cleaned_df[~cleaned_df[target].isin(single_class_indices)]\n",
        "\n",
        "# Split dataset into features and target variable\n",
        "X = df_filtered[features]\n",
        "y = df_filtered[target]\n",
        "\n",
        "# Perform stratified sampling to achieve balanced class distributions\n",
        "X_train, X_test, y_train, y_test = train_test_split(X, y, test_size=0.2, stratify=y, random_state=42)\n",
        "\n"
      ]
    },
    {
      "cell_type": "markdown",
      "metadata": {
        "id": "poTgazmLWD8K"
      },
      "source": [
        "# ML Models\n"
      ]
    },
    {
      "cell_type": "markdown",
      "metadata": {
        "id": "LupqzSNbo5iK"
      },
      "source": [
        "## Feature Engineering"
      ]
    }
  ],
  "metadata": {
    "accelerator": "GPU",
    "colab": {
      "gpuType": "T4",
      "provenance": []
    },
    "kernelspec": {
      "display_name": "Python 3",
      "name": "python3"
    },
    "language_info": {
      "name": "python"
    }
  },
  "nbformat": 4,
  "nbformat_minor": 0
}
